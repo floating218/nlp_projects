{
 "cells": [
  {
   "cell_type": "code",
   "execution_count": 1,
   "metadata": {},
   "outputs": [],
   "source": [
    "import torch\n",
    "import torch.nn as nn"
   ]
  },
  {
   "cell_type": "code",
   "execution_count": 2,
   "metadata": {},
   "outputs": [],
   "source": [
    "from sklearn import datasets\n",
    "from sklearn import preprocessing\n",
    "iris = datasets.load_iris()\n",
    "X = torch.tensor(preprocessing.normalize(iris.data[:, :2]), dtype=torch.float) \n",
    "y = torch.tensor(iris.target.reshape(-1, 1), dtype=torch.float)\n",
    "torch.manual_seed(2)\n",
    "X = X[:y[y < 2].size()[0]]\n",
    "y = y[:y[y < 2].size()[0]]"
   ]
  },
  {
   "cell_type": "code",
   "execution_count": 3,
   "metadata": {},
   "outputs": [],
   "source": [
    "class FNN(nn.Module):\n",
    "    def __init__(self, ):\n",
    "        super().__init__()\n",
    "        \n",
    "        self.input_dim = 2\n",
    "        self.hidden_dim1 = 32\n",
    "        self.hidden_dim2 = 8\n",
    "        self.output_dim = 1\n",
    "        \n",
    "        self.learning_rate = 0.001\n",
    "        \n",
    "        self.w1 = torch.randn(self.input_dim, self.hidden_dim1)\n",
    "\n",
    "        self.w2 = torch.randn(self.hidden_dim1, self.hidden_dim2)\n",
    "\n",
    "        self.w3 = torch.randn(self.hidden_dim2, self.output_dim)\n",
    "        \n",
    "    \n",
    "    def sigmoid(self, s):\n",
    "        return 1 / (1 + torch.exp(-s))\n",
    "    \n",
    "    def sigmoid_first_order_derivative(self, s):\n",
    "        return s * (1 - s)\n",
    "    \n",
    "    # Forward propagation\n",
    "    def forward(self, X):\n",
    "        self.y1 = torch.matmul(X, self.w1) # 3 X 3 \".dot\" does not broadcast in PyTorch\n",
    "\n",
    "        self.y2 = self.sigmoid(self.y1)\n",
    "        \n",
    "        self.y3 = torch.matmul(self.y2,self.w2)\n",
    "        \n",
    "        self.y4 = self.sigmoid(self.y3)\n",
    "        \n",
    "        self.y5 = torch.matmul(self.y4, self.w3)\n",
    "        \n",
    "        y6=self.sigmoid(self.y5)\n",
    "        \n",
    "        return y6\n",
    "        \n",
    "        \n",
    "    # Backward propagation\n",
    "    def backward(self, X, l, y6):\n",
    "        \n",
    "        self.dC_dy6=(y6-l)/(y6*(1-y6)) \n",
    "        self.dC_dy6=(-l/y6)+(1-l)/(1-y6)\n",
    "        self.dy6_dy5=y6*(1-y6)\n",
    "        self.dy5_dw3=self.y4\n",
    "              \n",
    "        self.y6_delta=self.dC_dy6*self.dy6_dy5\n",
    "\n",
    "        self.dC_dw3=torch.matmul(torch.t(self.y6_delta),self.dy5_dw3)\n",
    "                \n",
    "        self.dy5_dy4=self.w3\n",
    "        self.dy4_dy3=self.y4*(1-self.y4)\n",
    "        self.dy3_dw2=self.y2\n",
    "\n",
    "        self.y4_delta=torch.matmul(self.y6_delta,torch.t(self.dy5_dy4))*self.dy4_dy3\n",
    "        \n",
    "        self.dC_dw2=torch.matmul(torch.t(self.y4_delta),self.dy3_dw2)\n",
    "        \n",
    "        self.dy3_dy2=self.w2\n",
    "        self.dy2_dy1=self.y2*(1-self.y2)\n",
    "        self.dy1_dw1=X\n",
    "\n",
    "        self.y2_delta=torch.matmul(self.y4_delta,torch.t(self.dy3_dy2))*self.dy2_dy1\n",
    "        \n",
    "        self.dC_dw1=torch.matmul(torch.t(self.y2_delta),self.dy1_dw1)\n",
    "                \n",
    "        self.w3-=self.learning_rate*torch.t(self.dC_dw3)\n",
    "        self.w2-=self.learning_rate*torch.t(self.dC_dw2)\n",
    "        self.w1-=self.learning_rate*torch.t(self.dC_dw1)\n",
    "        \n",
    "#         print('dC_dy6 ',self.dC_dy6.size())\n",
    "#         print('dy6_dy5 ',self.dy6_dy5.size())\n",
    "#         print('dy5_dw3 ',self.dy5_dw3.size())       \n",
    "#         print('y6_delta ', self.y6_delta.size())       \n",
    "#         print()\n",
    "#         print('dC_dw3 ', self.dC_dw3.size())\n",
    "\n",
    "#         print('dy5_dy4 ',self.dy5_dy4.size())\n",
    "#         print('dy4_dy3 ',self.dy4_dy3.size())\n",
    "#         print('dy3_dw2 ',self.dy3_dw2.size())       \n",
    "#         print()\n",
    "#         print('dC_dw2 ',self.dC_dw2.size())\n",
    "#         print('y4_delta',self.y4_delta.size())        \n",
    "#         print('dy3_dy2 ',self.dy3_dy2.size())\n",
    "#         print('dy2_dy1 ',self.dy2_dy1.size())\n",
    "#         print('dy1_dw1 ',self.dy1_dw1.size())      \n",
    "        \n",
    "        \n",
    "    def train(self, X, l):\n",
    "        # Forward propagation\n",
    "        y4 = self.forward(X)\n",
    "        \n",
    "        # Backward propagation and gradient descent\n",
    "        self.backward(X, l, y4)"
   ]
  },
  {
   "cell_type": "code",
   "execution_count": 4,
   "metadata": {
    "scrolled": false
   },
   "outputs": [
    {
     "name": "stdout",
     "output_type": "stream",
     "text": [
      "Epoch 0 | Loss: 0.8082253336906433\n",
      "Epoch 20 | Loss: 0.6916651129722595\n",
      "Epoch 40 | Loss: 0.6864392161369324\n",
      "Epoch 60 | Loss: 0.685570240020752\n",
      "Epoch 80 | Loss: 0.6847962141036987\n",
      "Epoch 100 | Loss: 0.68397057056427\n"
     ]
    }
   ],
   "source": [
    "# Instantiate our model class and assign it to our model object\n",
    "model = FNN()\n",
    "\n",
    "# Loss list for plotting of loss behaviour\n",
    "loss_lst = []\n",
    "\n",
    "# Number of times we want our FNN to look at all 100 samples we have, 100 implies looking through 100x\n",
    "num_epochs = 101\n",
    "\n",
    "# Let's train our model with 100 epochs\n",
    "for epoch in range(num_epochs):\n",
    "    # Get our predictions\n",
    "    y_hat = model(X)\n",
    "    \n",
    "    # Cross entropy loss, remember this can never be negative by nature of the equation\n",
    "    # But it does not mean the loss can't be negative for other loss functions\n",
    "    cross_entropy_loss = -(y * torch.log(y_hat) + (1 - y) * torch.log(1 - y_hat))\n",
    "    \n",
    "    # We have to take cross entropy loss over all our samples, 100 in this 2-class iris dataset\n",
    "    mean_cross_entropy_loss = torch.mean(cross_entropy_loss).detach().item()\n",
    "    \n",
    "    # Print our mean cross entropy loss\n",
    "    if epoch % 20 == 0:\n",
    "        print('Epoch {} | Loss: {}'.format(epoch, mean_cross_entropy_loss))\n",
    "    loss_lst.append(mean_cross_entropy_loss)\n",
    "    \n",
    "    # (1) Forward propagation: to get our predictions to pass to our cross entropy loss function\n",
    "    # (2) Back propagation: get our partial derivatives w.r.t. parameters (gradients)\n",
    "    # (3) Gradient Descent: update our weights with our gradients\n",
    "    model.train(X, y)"
   ]
  },
  {
   "cell_type": "code",
   "execution_count": 5,
   "metadata": {
    "scrolled": true
   },
   "outputs": [
    {
     "data": {
      "text/plain": [
       "<matplotlib.axes._subplots.AxesSubplot at 0x7f5b62da25f8>"
      ]
     },
     "execution_count": 5,
     "metadata": {},
     "output_type": "execute_result"
    },
    {
     "data": {
      "image/png": "[encoded data removed]",
      "text/plain": [
       "<Figure size 432x288 with 1 Axes>"
      ]
     },
     "metadata": {
      "needs_background": "light"
     },
     "output_type": "display_data"
    }
   ],
   "source": [
    "import pandas as pd\n",
    "%matplotlib inline\n",
    "pd.Series(loss_lst).plot()"
   ]
  },
  {
   "cell_type": "code",
   "execution_count": null,
   "metadata": {},
   "outputs": [],
   "source": []
  }
 ],
 "metadata": {
  "kernelspec": {
   "display_name": "Python 3",
   "language": "python",
   "name": "python3"
  },
  "language_info": {
   "codemirror_mode": {
    "name": "ipython",
    "version": 3
   },
   "file_extension": ".py",
   "mimetype": "text/x-python",
   "name": "python",
   "nbconvert_exporter": "python",
   "pygments_lexer": "ipython3",
   "version": "3.6.8"
  }
 },
 "nbformat": 4,
 "nbformat_minor": 2
}
