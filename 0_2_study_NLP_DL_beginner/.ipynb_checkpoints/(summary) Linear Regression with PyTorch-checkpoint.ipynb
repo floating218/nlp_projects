{
 "cells": [
  {
   "cell_type": "markdown",
   "metadata": {},
   "source": [
    "<img src=\"images/deeplearningwizard_web_logo.png\" alt=\"deeplearningwizard\" style=\"width: 100px;\"/>\n",
    "\n",
    "# 6. Linear Regression with PyTorch\n",
    "## 1. About Linear Regression\n"
   ]
  },
  {
   "cell_type": "markdown",
   "metadata": {},
   "source": [
    "### 1.1 Simple Linear Regression Basics\n",
    "- Allows us to understand **relationship** between two **continuous variables**\n",
    "- Example\n",
    "    - x: independent variable\n",
    "        - weight\n",
    "    - y: dependent variable\n",
    "        - height\n",
    "- $y = \\alpha x + \\beta$"
   ]
  },
  {
   "cell_type": "markdown",
   "metadata": {},
   "source": [
    "### 1.2 Example of simple linear regression"
   ]
  },
  {
   "cell_type": "code",
   "execution_count": 1,
   "metadata": {},
   "outputs": [
    {
     "data": {
      "image/png": "[encoded data removed]",
      "text/plain": [
       "<Figure size 432x288 with 1 Axes>"
      ]
     },
     "metadata": {
      "needs_background": "light"
     },
     "output_type": "display_data"
    }
   ],
   "source": [
    "import numpy as np\n",
    "import matplotlib.pyplot as plt\n",
    "%matplotlib inline\n",
    "\n",
    "np.random.seed(1)\n",
    "n = 50\n",
    "x = np.random.randn(n)\n",
    "y = x * np.random.randn(n)\n",
    "\n",
    "colors = np.random.rand(n)\n",
    "plt.plot(np.unique(x), np.poly1d(np.polyfit(x, y, 1))(np.unique(x)))\n",
    "\n",
    "plt.scatter(x, y, c=colors, alpha=0.5)\n",
    "plt.show()"
   ]
  },
  {
   "cell_type": "markdown",
   "metadata": {},
   "source": [
    "### 1.3 Aim of Linear Regression\n",
    "- Minimize the distance between the points and the line ($y = \\alpha x + \\beta$)\n",
    "- Adjusting\n",
    "    - Coefficient: $\\alpha$\n",
    "    - Bias/intercept: $\\beta$\n",
    "\n",
    "## 2. Building a Linear Regression Model with PyTorch\n",
    "\n",
    "### 2.1 Example\n",
    "- Coefficient: $\\alpha = 2$\n",
    "- Bias/intercept: $\\beta = 1$\n",
    "- Equation: $y = 2x + 1$"
   ]
  },
  {
   "cell_type": "markdown",
   "metadata": {},
   "source": [
    "### 2.2 Building a Toy Dataset"
   ]
  },
  {
   "cell_type": "code",
   "execution_count": 4,
   "metadata": {},
   "outputs": [],
   "source": [
    "x_values = [i for i in range(11)]"
   ]
  },
  {
   "cell_type": "code",
   "execution_count": 5,
   "metadata": {},
   "outputs": [
    {
     "data": {
      "text/plain": [
       "[0, 1, 2, 3, 4, 5, 6, 7, 8, 9, 10]"
      ]
     },
     "execution_count": 5,
     "metadata": {},
     "output_type": "execute_result"
    }
   ],
   "source": [
    "x_values"
   ]
  },
  {
   "cell_type": "code",
   "execution_count": 6,
   "metadata": {},
   "outputs": [
    {
     "data": {
      "text/plain": [
       "(11,)"
      ]
     },
     "execution_count": 6,
     "metadata": {},
     "output_type": "execute_result"
    }
   ],
   "source": [
    "# Convert to numpy\n",
    "x_train = np.array(x_values, dtype=np.float32)\n",
    "x_train.shape"
   ]
  },
  {
   "cell_type": "code",
   "execution_count": 7,
   "metadata": {},
   "outputs": [
    {
     "data": {
      "text/plain": [
       "(11, 1)"
      ]
     },
     "execution_count": 7,
     "metadata": {},
     "output_type": "execute_result"
    }
   ],
   "source": [
    "# IMPORTANT: 2D required\n",
    "x_train = x_train.reshape(-1, 1)\n",
    "x_train.shape"
   ]
  },
  {
   "cell_type": "markdown",
   "metadata": {},
   "source": [
    "$y = 2x + 1$"
   ]
  },
  {
   "cell_type": "code",
   "execution_count": 6,
   "metadata": {},
   "outputs": [],
   "source": [
    "y_values = [2*i + 1 for i in x_values]"
   ]
  },
  {
   "cell_type": "code",
   "execution_count": 7,
   "metadata": {},
   "outputs": [
    {
     "data": {
      "text/plain": [
       "[1, 3, 5, 7, 9, 11, 13, 15, 17, 19, 21]"
      ]
     },
     "execution_count": 7,
     "metadata": {},
     "output_type": "execute_result"
    }
   ],
   "source": [
    "y_values"
   ]
  },
  {
   "cell_type": "code",
   "execution_count": 8,
   "metadata": {},
   "outputs": [],
   "source": [
    "# In case you're weak in list iterators...\n",
    "y_values = []\n",
    "for i in x_values:\n",
    "    result = 2*i + 1\n",
    "    y_values.append(result) "
   ]
  },
  {
   "cell_type": "code",
   "execution_count": 9,
   "metadata": {},
   "outputs": [
    {
     "data": {
      "text/plain": [
       "[1, 3, 5, 7, 9, 11, 13, 15, 17, 19, 21]"
      ]
     },
     "execution_count": 9,
     "metadata": {},
     "output_type": "execute_result"
    }
   ],
   "source": [
    "y_values"
   ]
  },
  {
   "cell_type": "code",
   "execution_count": 10,
   "metadata": {},
   "outputs": [
    {
     "data": {
      "text/plain": [
       "(11,)"
      ]
     },
     "execution_count": 10,
     "metadata": {},
     "output_type": "execute_result"
    }
   ],
   "source": [
    "y_train = np.array(y_values, dtype=np.float32)\n",
    "y_train.shape"
   ]
  },
  {
   "cell_type": "code",
   "execution_count": 11,
   "metadata": {},
   "outputs": [
    {
     "data": {
      "text/plain": [
       "(11, 1)"
      ]
     },
     "execution_count": 11,
     "metadata": {},
     "output_type": "execute_result"
    }
   ],
   "source": [
    "# IMPORTANT: 2D required\n",
    "y_train = y_train.reshape(-1, 1)\n",
    "y_train.shape"
   ]
  },
  {
   "cell_type": "markdown",
   "metadata": {},
   "source": [
    "### 2.3 Building Model"
   ]
  },
  {
   "cell_type": "markdown",
   "metadata": {},
   "source": [
    "**Critical Imports**"
   ]
  },
  {
   "cell_type": "code",
   "execution_count": 12,
   "metadata": {},
   "outputs": [],
   "source": [
    "import torch\n",
    "import torch.nn as nn"
   ]
  },
  {
   "cell_type": "markdown",
   "metadata": {},
   "source": [
    "**Create Model**\n",
    "1. Linear model\n",
    "    - True Equation: $y = 2x + 1$\n",
    "2. Forward\n",
    "    - Example\n",
    "        - Input $x = 1 $\n",
    "        - Output $\\hat y = ?$"
   ]
  },
  {
   "cell_type": "code",
   "execution_count": 13,
   "metadata": {},
   "outputs": [],
   "source": [
    "# Create class\n",
    "class LinearRegressionModel(nn.Module):\n",
    "    def __init__(self, input_dim, output_dim):\n",
    "        super(LinearRegressionModel, self).__init__()\n",
    "        self.linear = nn.Linear(input_dim, output_dim)  \n",
    "    \n",
    "    def forward(self, x):\n",
    "        out = self.linear(x)\n",
    "        return out"
   ]
  },
  {
   "cell_type": "markdown",
   "metadata": {},
   "source": [
    "**Instantiate Model Class**\n",
    "- input: [0, 1, 2, 3, 4, 5, 6, 7, 8, 9, 10]\n",
    "- desired output: [1, 3, 5, 7, 9, 11, 13, 15, 17, 19, 21]"
   ]
  },
  {
   "cell_type": "code",
   "execution_count": 14,
   "metadata": {},
   "outputs": [],
   "source": [
    "input_dim = 1\n",
    "output_dim = 1\n",
    "\n",
    "model = LinearRegressionModel(input_dim, output_dim)"
   ]
  },
  {
   "cell_type": "markdown",
   "metadata": {},
   "source": [
    "**Instantiate Loss Class**\n",
    "- MSE Loss: Mean Squared Error\n",
    "- $MSE = \\frac{1}{n} \\sum_{i=1}^n(\\hat y_i - y_i)$\n",
    "    - $\\hat y$: prediction\n",
    "    - $y$: true value"
   ]
  },
  {
   "cell_type": "code",
   "execution_count": 15,
   "metadata": {},
   "outputs": [],
   "source": [
    "criterion = nn.MSELoss()"
   ]
  },
  {
   "cell_type": "markdown",
   "metadata": {},
   "source": [
    "**Instantiate Optimizer Class**\n",
    "- Simplified equation\n",
    "    - $\\theta = \\theta - \\eta \\cdot \\nabla_\\theta $\n",
    "        - $\\theta$: parameters (our variables)\n",
    "        - $\\eta$: learning rate (how fast we want to learn)\n",
    "        - $\\nabla_\\theta$: parameters' gradients\n",
    "- Even simplier equation\n",
    "    - `parameters = parameters - learning_rate * parameters_gradients`\n",
    "        - parameters: $\\alpha$ and $\\beta$ in $ y = \\alpha x + \\beta$\n",
    "        - desired parameters: $\\alpha = 2$ and $\\beta = 1$ in $ y = 2x + 1$"
   ]
  },
  {
   "cell_type": "code",
   "execution_count": 16,
   "metadata": {},
   "outputs": [],
   "source": [
    "learning_rate = 0.01\n",
    "\n",
    "optimizer = torch.optim.SGD(model.parameters(), lr=learning_rate)"
   ]
  },
  {
   "cell_type": "markdown",
   "metadata": {},
   "source": [
    "**Train Model**\n",
    "- 1 epoch: going through the whole x_train data once\n",
    "    - 100 epochs: \n",
    "        - 100x mapping `x_train = [0, 1, 2, 3, 4, 5, 6, 7, 8, 9, 10]`\n",
    "        \n",
    "- Process \n",
    "    1. Convert inputs/labels to tensors with gradients\n",
    "    2. Clear gradient buffets\n",
    "    3. Get output given inputs \n",
    "    4. Get loss\n",
    "    5. Get gradients w.r.t. parameters\n",
    "    6. Update parameters using gradients\n",
    "        - `parameters = parameters - learning_rate * parameters_gradients`\n",
    "    7. REPEAT"
   ]
  },
  {
   "cell_type": "code",
   "execution_count": 17,
   "metadata": {},
   "outputs": [],
   "source": [
    "epochs = 100"
   ]
  },
  {
   "cell_type": "code",
   "execution_count": 18,
   "metadata": {
    "scrolled": true
   },
   "outputs": [
    {
     "name": "stdout",
     "output_type": "stream",
     "text": [
      "epoch 1, loss 140.58143615722656\n",
      "epoch 2, loss 11.467253684997559\n",
      "epoch 3, loss 0.9358152747154236\n",
      "epoch 4, loss 0.07679400593042374\n",
      "epoch 5, loss 0.0067212567664682865\n",
      "epoch 6, loss 0.0010006226366385818\n",
      "epoch 7, loss 0.0005289533291943371\n",
      "epoch 8, loss 0.0004854927829001099\n",
      "epoch 9, loss 0.00047700389404781163\n",
      "epoch 10, loss 0.0004714332753792405\n",
      "epoch 11, loss 0.00046614606981165707\n",
      "epoch 12, loss 0.0004609318566508591\n",
      "epoch 13, loss 0.0004557870561257005\n",
      "epoch 14, loss 0.00045069155748933554\n",
      "epoch 15, loss 0.00044567222357727587\n",
      "epoch 16, loss 0.00044068993884138763\n",
      "epoch 17, loss 0.00043576463940553367\n",
      "epoch 18, loss 0.00043090470717288554\n",
      "epoch 19, loss 0.00042609183583408594\n",
      "epoch 20, loss 0.0004213254142086953\n",
      "epoch 21, loss 0.0004166301223449409\n",
      "epoch 22, loss 0.0004119801160413772\n",
      "epoch 23, loss 0.00040738462121225893\n",
      "epoch 24, loss 0.0004028224211651832\n",
      "epoch 25, loss 0.0003983367350883782\n",
      "epoch 26, loss 0.0003938761365134269\n",
      "epoch 27, loss 0.000389480876037851\n",
      "epoch 28, loss 0.00038514015614055097\n",
      "epoch 29, loss 0.000380824290914461\n",
      "epoch 30, loss 0.00037657516077160835\n",
      "epoch 31, loss 0.000372376263840124\n",
      "epoch 32, loss 0.0003682126116473228\n",
      "epoch 33, loss 0.0003640959912445396\n",
      "epoch 34, loss 0.00036003670538775623\n",
      "epoch 35, loss 0.00035601368290372193\n",
      "epoch 36, loss 0.00035203873994760215\n",
      "epoch 37, loss 0.00034810820943675935\n",
      "epoch 38, loss 0.000344215368386358\n",
      "epoch 39, loss 0.0003403784066904336\n",
      "epoch 40, loss 0.00033658024040050805\n",
      "epoch 41, loss 0.0003328165039420128\n",
      "epoch 42, loss 0.0003291067841928452\n",
      "epoch 43, loss 0.0003254293987993151\n",
      "epoch 44, loss 0.0003217888588551432\n",
      "epoch 45, loss 0.0003182037326041609\n",
      "epoch 46, loss 0.0003146533854305744\n",
      "epoch 47, loss 0.00031113551813177764\n",
      "epoch 48, loss 0.0003076607536058873\n",
      "epoch 49, loss 0.00030422292184084654\n",
      "epoch 50, loss 0.00030083119054324925\n",
      "epoch 51, loss 0.00029746422660537064\n",
      "epoch 52, loss 0.0002941471466328949\n",
      "epoch 53, loss 0.00029085995629429817\n",
      "epoch 54, loss 0.0002876132493838668\n",
      "epoch 55, loss 0.00028440452297218144\n",
      "epoch 56, loss 0.00028122696676291525\n",
      "epoch 57, loss 0.00027808290906250477\n",
      "epoch 58, loss 0.00027497278642840683\n",
      "epoch 59, loss 0.00027190230321139097\n",
      "epoch 60, loss 0.00026887087733484805\n",
      "epoch 61, loss 0.0002658693410921842\n",
      "epoch 62, loss 0.0002629039518069476\n",
      "epoch 63, loss 0.00025996880140155554\n",
      "epoch 64, loss 0.0002570618235040456\n",
      "epoch 65, loss 0.00025419273879379034\n",
      "epoch 66, loss 0.00025135406758636236\n",
      "epoch 67, loss 0.0002485490695107728\n",
      "epoch 68, loss 0.0002457649679854512\n",
      "epoch 69, loss 0.0002430236927466467\n",
      "epoch 70, loss 0.00024031475186347961\n",
      "epoch 71, loss 0.00023762597993481904\n",
      "epoch 72, loss 0.00023497406800743192\n",
      "epoch 73, loss 0.0002323519001947716\n",
      "epoch 74, loss 0.00022976362379267812\n",
      "epoch 75, loss 0.0002271933335578069\n",
      "epoch 76, loss 0.00022465786605607718\n",
      "epoch 77, loss 0.00022214400814846158\n",
      "epoch 78, loss 0.00021966728672850877\n",
      "epoch 79, loss 0.0002172116219298914\n",
      "epoch 80, loss 0.00021478648704942316\n",
      "epoch 81, loss 0.00021239375928416848\n",
      "epoch 82, loss 0.0002100227284245193\n",
      "epoch 83, loss 0.00020767028036061674\n",
      "epoch 84, loss 0.00020534756185952574\n",
      "epoch 85, loss 0.00020305956422816962\n",
      "epoch 86, loss 0.0002007894654525444\n",
      "epoch 87, loss 0.00019854879064951092\n",
      "epoch 88, loss 0.00019633043848443776\n",
      "epoch 89, loss 0.00019413618429098278\n",
      "epoch 90, loss 0.00019197272195015103\n",
      "epoch 91, loss 0.0001898303598864004\n",
      "epoch 92, loss 0.00018771187751553953\n",
      "epoch 93, loss 0.00018561164324637502\n",
      "epoch 94, loss 0.00018354636267758906\n",
      "epoch 95, loss 0.00018149390234611928\n",
      "epoch 96, loss 0.0001794644631445408\n",
      "epoch 97, loss 0.00017746571393217891\n",
      "epoch 98, loss 0.00017548113828524947\n",
      "epoch 99, loss 0.00017352371651213616\n",
      "epoch 100, loss 0.00017157981346827\n"
     ]
    }
   ],
   "source": [
    "for epoch in range(epochs):\n",
    "    epoch += 1\n",
    "    # Convert numpy array to torch Variable\n",
    "    inputs = torch.from_numpy(x_train).requires_grad_()\n",
    "    labels = torch.from_numpy(y_train)\n",
    "\n",
    "    # Clear gradients w.r.t. parameters\n",
    "    optimizer.zero_grad() \n",
    "    \n",
    "    # Forward to get output\n",
    "    outputs = model(inputs)\n",
    "    \n",
    "    # Calculate Loss\n",
    "    loss = criterion(outputs, labels)\n",
    "    \n",
    "    # Getting gradients w.r.t. parameters\n",
    "    loss.backward()\n",
    "    \n",
    "    # Updating parameters\n",
    "    optimizer.step()\n",
    "    \n",
    "    print('epoch {}, loss {}'.format(epoch, loss.item()))"
   ]
  },
  {
   "cell_type": "markdown",
   "metadata": {},
   "source": [
    "**Compare Data**"
   ]
  },
  {
   "cell_type": "code",
   "execution_count": 19,
   "metadata": {},
   "outputs": [
    {
     "data": {
      "text/plain": [
       "array([[ 0.9756333],\n",
       "       [ 2.9791424],\n",
       "       [ 4.982651 ],\n",
       "       [ 6.9861603],\n",
       "       [ 8.98967  ],\n",
       "       [10.993179 ],\n",
       "       [12.996688 ],\n",
       "       [15.000196 ],\n",
       "       [17.003706 ],\n",
       "       [19.007215 ],\n",
       "       [21.010725 ]], dtype=float32)"
      ]
     },
     "execution_count": 19,
     "metadata": {},
     "output_type": "execute_result"
    }
   ],
   "source": [
    "# Purely inference\n",
    "predicted = model(torch.from_numpy(x_train).requires_grad_()).data.numpy()\n",
    "predicted"
   ]
  },
  {
   "cell_type": "code",
   "execution_count": 20,
   "metadata": {},
   "outputs": [
    {
     "data": {
      "text/plain": [
       "array([[ 1.],\n",
       "       [ 3.],\n",
       "       [ 5.],\n",
       "       [ 7.],\n",
       "       [ 9.],\n",
       "       [11.],\n",
       "       [13.],\n",
       "       [15.],\n",
       "       [17.],\n",
       "       [19.],\n",
       "       [21.]], dtype=float32)"
      ]
     },
     "execution_count": 20,
     "metadata": {},
     "output_type": "execute_result"
    }
   ],
   "source": [
    "# y = 2x + 1 \n",
    "y_train"
   ]
  },
  {
   "cell_type": "markdown",
   "metadata": {},
   "source": [
    "**Plot Graph**"
   ]
  },
  {
   "cell_type": "code",
   "execution_count": 21,
   "metadata": {},
   "outputs": [
    {
     "data": {
      "image/png": "[encoded data removed]",
      "text/plain": [
       "<Figure size 432x288 with 1 Axes>"
      ]
     },
     "metadata": {},
     "output_type": "display_data"
    }
   ],
   "source": [
    "# Clear figure\n",
    "plt.clf()\n",
    "\n",
    "# Get predictions\n",
    "predicted = model(torch.from_numpy(x_train).requires_grad_()).data.numpy()\n",
    "\n",
    "# Plot true data\n",
    "plt.plot(x_train, y_train, 'go', label='True data', alpha=0.5)\n",
    "\n",
    "# Plot predictions\n",
    "plt.plot(x_train, predicted, '--', label='Predictions', alpha=0.5)\n",
    "\n",
    "# Legend and plot\n",
    "plt.legend(loc='best')\n",
    "plt.show()"
   ]
  },
  {
   "cell_type": "markdown",
   "metadata": {},
   "source": [
    "**Save Model**"
   ]
  },
  {
   "cell_type": "code",
   "execution_count": 22,
   "metadata": {},
   "outputs": [],
   "source": [
    "save_model = False\n",
    "if save_model is True:\n",
    "    # Saves only parameters\n",
    "    # alpha & beta\n",
    "    torch.save(model.state_dict(), 'awesome_model.pkl')"
   ]
  },
  {
   "cell_type": "markdown",
   "metadata": {},
   "source": [
    "**Load Model**"
   ]
  },
  {
   "cell_type": "code",
   "execution_count": 23,
   "metadata": {},
   "outputs": [],
   "source": [
    "load_model = False\n",
    "if load_model is True:\n",
    "    model.load_state_dict(torch.load('awesome_model.pkl'))"
   ]
  },
  {
   "cell_type": "markdown",
   "metadata": {},
   "source": [
    "## 3. Building a Linear Regression Model with PyTorch (GPU)\n",
    "\n"
   ]
  },
  {
   "cell_type": "markdown",
   "metadata": {},
   "source": [
    "**CPU Summary**"
   ]
  },
  {
   "cell_type": "code",
   "execution_count": 24,
   "metadata": {},
   "outputs": [],
   "source": [
    "import torch\n",
    "import torch.nn as nn\n",
    "\n",
    "'''\n",
    "STEP 1: CREATE MODEL CLASS\n",
    "'''\n",
    "class LinearRegressionModel(nn.Module):\n",
    "    def __init__(self, input_dim, output_dim):\n",
    "        super(LinearRegressionModel, self).__init__()\n",
    "        self.linear = nn.Linear(input_dim, output_dim)  \n",
    "    \n",
    "    def forward(self, x):\n",
    "        out = self.linear(x)\n",
    "        return out\n",
    "\n",
    "'''\n",
    "STEP 2: INSTANTIATE MODEL CLASS\n",
    "'''\n",
    "input_dim = 1\n",
    "output_dim = 1\n",
    "\n",
    "model = LinearRegressionModel(input_dim, output_dim)\n",
    "\n",
    "'''\n",
    "STEP 3: INSTANTIATE LOSS CLASS\n",
    "'''\n",
    "\n",
    "criterion = nn.MSELoss()\n",
    "\n",
    "'''\n",
    "STEP 4: INSTANTIATE OPTIMIZER CLASS\n",
    "'''\n",
    "\n",
    "learning_rate = 0.01\n",
    "\n",
    "optimizer = torch.optim.SGD(model.parameters(), lr=learning_rate)\n",
    "\n",
    "'''\n",
    "STEP 5: TRAIN THE MODEL\n",
    "'''\n",
    "epochs = 100\n",
    "for epoch in range(epochs):\n",
    "    epoch += 1\n",
    "    # Convert numpy array to torch Variable\n",
    "    inputs = torch.from_numpy(x_train).requires_grad_()\n",
    "    labels = torch.from_numpy(y_train)\n",
    "\n",
    "    # Clear gradients w.r.t. parameters\n",
    "    optimizer.zero_grad() \n",
    "    \n",
    "    # Forward to get output\n",
    "    outputs = model(inputs)\n",
    "    \n",
    "    # Calculate Loss\n",
    "    loss = criterion(outputs, labels)\n",
    "    \n",
    "    # Getting gradients w.r.t. parameters\n",
    "    loss.backward()\n",
    "    \n",
    "    # Updating parameters\n",
    "    optimizer.step()"
   ]
  },
  {
   "cell_type": "markdown",
   "metadata": {},
   "source": [
    "GPU: 2 things must be on GPU\n",
    "- `model`\n",
    "- `tensors with gradients`"
   ]
  },
  {
   "cell_type": "code",
   "execution_count": 25,
   "metadata": {},
   "outputs": [
    {
     "name": "stdout",
     "output_type": "stream",
     "text": [
      "epoch 1, loss 336.0314025878906\n",
      "epoch 2, loss 27.67657470703125\n",
      "epoch 3, loss 2.5220539569854736\n",
      "epoch 4, loss 0.46732547879219055\n",
      "epoch 5, loss 0.2968060076236725\n",
      "epoch 6, loss 0.2800087630748749\n",
      "epoch 7, loss 0.27578213810920715\n",
      "epoch 8, loss 0.2726128399372101\n",
      "epoch 9, loss 0.269561231136322\n",
      "epoch 10, loss 0.2665504515171051\n",
      "epoch 11, loss 0.2635740041732788\n",
      "epoch 12, loss 0.26063060760498047\n",
      "epoch 13, loss 0.2577202618122101\n",
      "epoch 14, loss 0.2548423111438751\n",
      "epoch 15, loss 0.25199657678604126\n",
      "epoch 16, loss 0.24918246269226074\n",
      "epoch 17, loss 0.24639996886253357\n",
      "epoch 18, loss 0.24364829063415527\n",
      "epoch 19, loss 0.24092751741409302\n",
      "epoch 20, loss 0.2382371574640274\n",
      "epoch 21, loss 0.23557686805725098\n",
      "epoch 22, loss 0.2329462170600891\n",
      "epoch 23, loss 0.2303449958562851\n",
      "epoch 24, loss 0.22777271270751953\n",
      "epoch 25, loss 0.2252292037010193\n",
      "epoch 26, loss 0.22271405160427094\n",
      "epoch 27, loss 0.22022713720798492\n",
      "epoch 28, loss 0.21776780486106873\n",
      "epoch 29, loss 0.21533599495887756\n",
      "epoch 30, loss 0.21293145418167114\n",
      "epoch 31, loss 0.21055366098880768\n",
      "epoch 32, loss 0.20820240676403046\n",
      "epoch 33, loss 0.2058774083852768\n",
      "epoch 34, loss 0.20357847213745117\n",
      "epoch 35, loss 0.20130516588687897\n",
      "epoch 36, loss 0.1990572065114975\n",
      "epoch 37, loss 0.19683438539505005\n",
      "epoch 38, loss 0.19463638961315155\n",
      "epoch 39, loss 0.19246290624141693\n",
      "epoch 40, loss 0.1903136670589447\n",
      "epoch 41, loss 0.1881885528564453\n",
      "epoch 42, loss 0.18608702719211578\n",
      "epoch 43, loss 0.18400898575782776\n",
      "epoch 44, loss 0.18195408582687378\n",
      "epoch 45, loss 0.17992223799228668\n",
      "epoch 46, loss 0.17791320383548737\n",
      "epoch 47, loss 0.17592646181583405\n",
      "epoch 48, loss 0.17396186292171478\n",
      "epoch 49, loss 0.17201924324035645\n",
      "epoch 50, loss 0.17009828984737396\n",
      "epoch 51, loss 0.16819894313812256\n",
      "epoch 52, loss 0.16632060706615448\n",
      "epoch 53, loss 0.16446338593959808\n",
      "epoch 54, loss 0.16262666881084442\n",
      "epoch 55, loss 0.16081078350543976\n",
      "epoch 56, loss 0.15901507437229156\n",
      "epoch 57, loss 0.15723931789398193\n",
      "epoch 58, loss 0.15548335015773773\n",
      "epoch 59, loss 0.15374726057052612\n",
      "epoch 60, loss 0.1520303338766098\n",
      "epoch 61, loss 0.15033268928527832\n",
      "epoch 62, loss 0.14865389466285706\n",
      "epoch 63, loss 0.14699392020702362\n",
      "epoch 64, loss 0.14535246789455414\n",
      "epoch 65, loss 0.14372935891151428\n",
      "epoch 66, loss 0.14212435483932495\n",
      "epoch 67, loss 0.14053721725940704\n",
      "epoch 68, loss 0.13896773755550385\n",
      "epoch 69, loss 0.1374160647392273\n",
      "epoch 70, loss 0.1358814686536789\n",
      "epoch 71, loss 0.13436420261859894\n",
      "epoch 72, loss 0.13286370038986206\n",
      "epoch 73, loss 0.1313801407814026\n",
      "epoch 74, loss 0.12991292774677277\n",
      "epoch 75, loss 0.12846232950687408\n",
      "epoch 76, loss 0.1270277351140976\n",
      "epoch 77, loss 0.12560924887657166\n",
      "epoch 78, loss 0.12420656532049179\n",
      "epoch 79, loss 0.12281957268714905\n",
      "epoch 80, loss 0.1214480847120285\n",
      "epoch 81, loss 0.12009195983409882\n",
      "epoch 82, loss 0.1187509223818779\n",
      "epoch 83, loss 0.11742479354143143\n",
      "epoch 84, loss 0.11611353605985641\n",
      "epoch 85, loss 0.11481687426567078\n",
      "epoch 86, loss 0.11353478580713272\n",
      "epoch 87, loss 0.11226697266101837\n",
      "epoch 88, loss 0.11101329326629639\n",
      "epoch 89, loss 0.10977360606193542\n",
      "epoch 90, loss 0.10854770988225937\n",
      "epoch 91, loss 0.10733554512262344\n",
      "epoch 92, loss 0.10613703727722168\n",
      "epoch 93, loss 0.10495180636644363\n",
      "epoch 94, loss 0.10377981513738632\n",
      "epoch 95, loss 0.10262089222669601\n",
      "epoch 96, loss 0.10147502273321152\n",
      "epoch 97, loss 0.1003417894244194\n",
      "epoch 98, loss 0.09922132641077042\n",
      "epoch 99, loss 0.0981132984161377\n",
      "epoch 100, loss 0.09701769798994064\n"
     ]
    }
   ],
   "source": [
    "import torch\n",
    "import torch.nn as nn\n",
    "import numpy as np\n",
    "\n",
    "'''\n",
    "STEP 1: CREATE MODEL CLASS\n",
    "'''\n",
    "class LinearRegressionModel(nn.Module):\n",
    "    def __init__(self, input_dim, output_dim):\n",
    "        super(LinearRegressionModel, self).__init__()\n",
    "        self.linear = nn.Linear(input_dim, output_dim)  \n",
    "    \n",
    "    def forward(self, x):\n",
    "        out = self.linear(x)\n",
    "        return out\n",
    "\n",
    "'''\n",
    "STEP 2: INSTANTIATE MODEL CLASS\n",
    "'''\n",
    "input_dim = 1\n",
    "output_dim = 1\n",
    "\n",
    "model = LinearRegressionModel(input_dim, output_dim)\n",
    "\n",
    "\n",
    "#######################\n",
    "#  USE GPU FOR MODEL  #\n",
    "#######################\n",
    "\n",
    "device = torch.device(\"cuda:0\" if torch.cuda.is_available() else \"cpu\")\n",
    "model.to(device)\n",
    "\n",
    "'''\n",
    "STEP 3: INSTANTIATE LOSS CLASS\n",
    "'''\n",
    "\n",
    "criterion = nn.MSELoss()\n",
    "\n",
    "'''\n",
    "STEP 4: INSTANTIATE OPTIMIZER CLASS\n",
    "'''\n",
    "\n",
    "learning_rate = 0.01\n",
    "\n",
    "optimizer = torch.optim.SGD(model.parameters(), lr=learning_rate)\n",
    "\n",
    "'''\n",
    "STEP 5: TRAIN THE MODEL\n",
    "'''\n",
    "epochs = 100\n",
    "for epoch in range(epochs):\n",
    "    epoch += 1\n",
    "    # Convert numpy array to torch Variable\n",
    "    \n",
    "    #######################\n",
    "    #  USE GPU FOR MODEL  #\n",
    "    #######################\n",
    "    inputs = torch.from_numpy(x_train).to(device)\n",
    "    labels = torch.from_numpy(y_train).to(device)\n",
    "    \n",
    "    # Clear gradients w.r.t. parameters\n",
    "    optimizer.zero_grad() \n",
    "    \n",
    "    # Forward to get output\n",
    "    outputs = model(inputs)\n",
    "    \n",
    "    # Calculate Loss\n",
    "    loss = criterion(outputs, labels)\n",
    "    \n",
    "    # Getting gradients w.r.t. parameters\n",
    "    loss.backward()\n",
    "    \n",
    "    # Updating parameters\n",
    "    optimizer.step()\n",
    "    \n",
    "    # Logging\n",
    "    print('epoch {}, loss {}'.format(epoch, loss.item()))"
   ]
  },
  {
   "cell_type": "markdown",
   "metadata": {},
   "source": [
    "# Summary"
   ]
  },
  {
   "cell_type": "markdown",
   "metadata": {},
   "source": [
    "- Simple **linear regression basics**\n",
    "    - $y = Ax + B$\n",
    "    - $y = 2x + 1$\n",
    "- **Example** of simple linear regression\n",
    "- **Aim** of linear regression\n",
    "    - Minimizing distance between the points and the line\n",
    "        - Calculate \"distance\" through `MSE`\n",
    "        - Calculate `gradients`\n",
    "        - Update parameters with `parameters = parameters - learning_rate * gradients`\n",
    "        - Slowly update parameters $A$ and $B$ model the linear relationship between $y$ and $x$ of the form $y = 2x + 1$\n",
    "- Built a linear regression **model** in **CPU and GPU**\n",
    "    - Step 1: Create Model Class\n",
    "    - Step 2: Instantiate Model Class\n",
    "    - Step 3: Instantiate Loss Class\n",
    "    - Step 4: Instantiate Optimizer Class\n",
    "    - Step 5: Train Model\n",
    "- Important things to be on **GPU**\n",
    "    - `model`\n",
    "    - `tensors with gradients`\n",
    "- How to bring to **GPU**?\n",
    "    - `model_name.cuda()`\n",
    "    - `variable_name.cuda()`"
   ]
  }
 ],
 "metadata": {
  "anaconda-cloud": {},
  "kernelspec": {
   "display_name": "Python 3",
   "language": "python",
   "name": "python3"
  },
  "language_info": {
   "codemirror_mode": {
    "name": "ipython",
    "version": 3
   },
   "file_extension": ".py",
   "mimetype": "text/x-python",
   "name": "python",
   "nbconvert_exporter": "python",
   "pygments_lexer": "ipython3",
   "version": "3.6.8"
  }
 },
 "nbformat": 4,
 "nbformat_minor": 1
}
